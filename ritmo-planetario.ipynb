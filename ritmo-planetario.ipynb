{
 "cells": [
  {
   "cell_type": "code",
   "execution_count": 1,
   "id": "2df4fe18",
   "metadata": {
    "_cell_guid": "b1076dfc-b9ad-4769-8c92-a6c4dae69d19",
    "_uuid": "8f2839f25d086af736a60e9eeb907d3b93b6e0e5",
    "execution": {
     "iopub.execute_input": "2025-05-21T04:10:32.843730Z",
     "iopub.status.busy": "2025-05-21T04:10:32.843373Z",
     "iopub.status.idle": "2025-05-21T04:10:35.038768Z",
     "shell.execute_reply": "2025-05-21T04:10:35.037472Z"
    },
    "papermill": {
     "duration": 2.201415,
     "end_time": "2025-05-21T04:10:35.041171",
     "exception": false,
     "start_time": "2025-05-21T04:10:32.839756",
     "status": "completed"
    },
    "tags": []
   },
   "outputs": [
    {
     "name": "stdout",
     "output_type": "stream",
     "text": [
      "/kaggle/input/ritmo-planetario-web-0/alaska_npp_clean.csv\n",
      "/kaggle/input/ritmo-planetario-web-0/README.md\n",
      "/kaggle/input/ritmo-planetario-web-0/README_en.md\n",
      "/kaggle/input/ritmo-planetario-web-0/viaje-amazonico.html\n",
      "/kaggle/input/ritmo-planetario-web-0/amazon_npp_clean.csv\n",
      "/kaggle/input/ritmo-planetario-web-0/index.html\n",
      "/kaggle/input/scanner-rya/style.css\n",
      "/kaggle/input/scanner-rya/app.js\n",
      "/kaggle/input/scanner-rya/index.html\n",
      "/kaggle/input/enigma/README.en.md\n",
      "/kaggle/input/enigma/README.md\n",
      "/kaggle/input/enigma/Create new file\n",
      "/kaggle/input/enigma/codice_text_v1.md\n",
      "/kaggle/input/enigma/codice/codice_text_v1_en.md\n",
      "/kaggle/input/enigma/codice/codice/images/Upload files\n",
      "/kaggle/input/enigma/codice/codice/images/.gitkeep\n",
      "/kaggle/input/enigma/enigma/enigma/hypothesis.md\n",
      "/kaggle/input/enigma/enigma/enigma/enigma/analysis.md\n",
      "/kaggle/input/enigma/enigma/enigma/enigma/enigma/analysis_vibracional.md\n",
      "/kaggle/input/rya-report/RYA_Report_Document.pages\n",
      "/kaggle/input/rya-scanner-report/Scanner_RYA_Hackathon_Report.pdf\n",
      "/kaggle/input/rya-notebook-process/RYA_toZ_notebook.ipynb\n",
      "/kaggle/input/5-points-of-the-amazon-indigenous-cultures/scanner_rya_5nodes_map_en.html\n",
      "/kaggle/input/amazonian-node-location-sources/nodos_amazonicos_evidencia.md\n",
      "/kaggle/input/codigo-enigma/README.en.md\n",
      "/kaggle/input/codigo-enigma/README.md\n",
      "/kaggle/input/codigo-enigma/Create new file\n",
      "/kaggle/input/codigo-enigma/codice_text_v1.md\n",
      "/kaggle/input/codigo-enigma/codice/codice_text_v1_en.md\n",
      "/kaggle/input/codigo-enigma/codice/codice/images/Upload files\n",
      "/kaggle/input/codigo-enigma/codice/codice/images/.gitkeep\n",
      "/kaggle/input/codigo-enigma/enigma/enigma/hypothesis.md\n",
      "/kaggle/input/codigo-enigma/enigma/enigma/enigma/analysis.md\n",
      "/kaggle/input/codigo-enigma/enigma/enigma/enigma/enigma/analysis_vibracional.md\n",
      "/kaggle/input/openai-to-z-challenge/README\n"
     ]
    }
   ],
   "source": [
    "# This Python 3 environment comes with many helpful analytics libraries installed\n",
    "# It is defined by the kaggle/python Docker image: https://github.com/kaggle/docker-python\n",
    "# For example, here's several helpful packages to load\n",
    "\n",
    "import numpy as np # linear algebra\n",
    "import pandas as pd # data processing, CSV file I/O (e.g. pd.read_csv)\n",
    "\n",
    "# Input data files are available in the read-only \"../input/\" directory\n",
    "# For example, running this (by clicking run or pressing Shift+Enter) will list all files under the input directory\n",
    "\n",
    "import os\n",
    "for dirname, _, filenames in os.walk('/kaggle/input'):\n",
    "    for filename in filenames:\n",
    "        print(os.path.join(dirname, filename))\n",
    "\n",
    "# You can write up to 20GB to the current directory (/kaggle/working/) that gets preserved as output when you create a version using \"Save & Run All\" \n",
    "# You can also write temporary files to /kaggle/temp/, but they won't be saved outside of the current session"
   ]
  }
 ],
 "metadata": {
  "kaggle": {
   "accelerator": "none",
   "dataSources": [
    {
     "databundleVersionId": 12334818,
     "isSourceIdPinned": false,
     "sourceId": 101597,
     "sourceType": "competition"
    },
    {
     "datasetId": 7456128,
     "sourceId": 11865503,
     "sourceType": "datasetVersion"
    },
    {
     "datasetId": 7456144,
     "sourceId": 11865525,
     "sourceType": "datasetVersion"
    },
    {
     "datasetId": 7457845,
     "sourceId": 11867850,
     "sourceType": "datasetVersion"
    },
    {
     "datasetId": 7457977,
     "sourceId": 11868037,
     "sourceType": "datasetVersion"
    },
    {
     "datasetId": 7458133,
     "sourceId": 11868273,
     "sourceType": "datasetVersion"
    },
    {
     "datasetId": 7459044,
     "sourceId": 11869515,
     "sourceType": "datasetVersion"
    },
    {
     "datasetId": 7459054,
     "sourceId": 11869529,
     "sourceType": "datasetVersion"
    },
    {
     "datasetId": 7466186,
     "sourceId": 11879954,
     "sourceType": "datasetVersion"
    },
    {
     "datasetId": 7457000,
     "sourceId": 11866726,
     "sourceType": "datasetVersion"
    }
   ],
   "isGpuEnabled": false,
   "isInternetEnabled": true,
   "language": "python",
   "sourceType": "notebook"
  },
  "kernelspec": {
   "display_name": "Python 3",
   "language": "python",
   "name": "python3"
  },
  "language_info": {
   "codemirror_mode": {
    "name": "ipython",
    "version": 3
   },
   "file_extension": ".py",
   "mimetype": "text/x-python",
   "name": "python",
   "nbconvert_exporter": "python",
   "pygments_lexer": "ipython3",
   "version": "3.11.11"
  },
  "papermill": {
   "default_parameters": {},
   "duration": 10.295297,
   "end_time": "2025-05-21T04:10:37.810903",
   "environment_variables": {},
   "exception": null,
   "input_path": "__notebook__.ipynb",
   "output_path": "__notebook__.ipynb",
   "parameters": {},
   "start_time": "2025-05-21T04:10:27.515606",
   "version": "2.6.0"
  }
 },
 "nbformat": 4,
 "nbformat_minor": 5
}
